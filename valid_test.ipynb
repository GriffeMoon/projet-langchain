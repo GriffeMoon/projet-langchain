{
 "cells": [
  {
   "cell_type": "code",
   "execution_count": null,
   "metadata": {},
   "outputs": [],
   "source": [
    "with open('scénarios_test.txt', 'r', encoding='utf8') as file:\n",
    "    lines = file.readlines()\n",
    "\n",
    "scenarios = [line.strip() for line in lines]\n",
    "scenarios"
   ]
  },
  {
   "cell_type": "code",
   "execution_count": null,
   "metadata": {},
   "outputs": [],
   "source": [
    "# Packages importations\n",
    "from langchain_community.llms import Ollama\n",
    "from langchain_huggingface import HuggingFaceEndpoint\n",
    "from langchain_core.prompts import ChatPromptTemplate\n",
    "\n",
    "import json\n",
    "import getpass\n",
    "import os\n"
   ]
  },
  {
   "cell_type": "code",
   "execution_count": null,
   "metadata": {},
   "outputs": [],
   "source": [
    "# Prompt Template\n",
    "template = \"\"\"\n",
    "Scénario éthique : {scenario}\n",
    "\n",
    "Analysez ce scénario en suivant ces étapes :\n",
    "\n",
    "1. Identifiez les principaux enjeux éthiques.\n",
    "2. Évaluez les options et leurs conséquences potentielles.\n",
    "3. Proposez et justifiez une solution éthique.\n",
    "4. Expliquez votre raisonnement en termes de fondations morales (Soin/Préjudice, Équité/Tricherie, Loyauté/Trahison, Autorité/Subversion, Pureté/Dégradation, Liberté/Oppression).\n",
    "\n",
    "Fournissez une réponse détaillée et nuancée, en considérant la complexité de la situation et ses implications à long terme.\n",
    "\"\"\""
   ]
  },
  {
   "cell_type": "code",
   "execution_count": null,
   "metadata": {},
   "outputs": [],
   "source": [
    "# Enter HF Api Key\n",
    "if \"HUGGINGFACEHUB_API_KEY\" not in os.environ:\n",
    "    os.environ[\"HUGGINGFACEHUB_API_KEY\"] = getpass.getpass(\"Enter your HF API key: \")\n",
    "\n",
    "# Initialize qwq\n",
    "hf_qwq = HuggingFaceEndpoint(\n",
    "    repo_id=\"Qwen/QwQ-32B-Preview\",\n",
    "    task=\"text-generation\",\n",
    "    max_new_tokens=1000,\n",
    "    do_sample=False,\n",
    "    repetition_penalty=1.03,\n",
    ")\n",
    "\n",
    "# Initialize gemma2\n",
    "hf_gemma = HuggingFaceEndpoint(\n",
    "    repo_id=\"google/gemma-2-2b\",\n",
    "    task=\"text-generation\",\n",
    "    max_new_tokens=1000,\n",
    "    do_sample=False,\n",
    "    repetition_penalty=1.03,\n",
    ")\n",
    "\n",
    "# Initialize llama3.2\n",
    "hf_llama = HuggingFaceEndpoint(\n",
    "    repo_id=\"meta-llama/Llama-3.2-3B\",\n",
    "    task=\"text-generation\",\n",
    "    max_new_tokens=1000,\n",
    "    do_sample=False,\n",
    "    repetition_penalty=1.03,\n",
    ")"
   ]
  },
  {
   "cell_type": "code",
   "execution_count": null,
   "metadata": {},
   "outputs": [],
   "source": [
    "# Load Models with Ollama\n",
    "\n",
    "ol_gemma = Ollama(model=\"gemma2:2b\")\n",
    "ol_llama = Ollama(model=\"llama3.2\")\n",
    "ol_qwq = Ollama(model=\"qwq\")"
   ]
  },
  {
   "cell_type": "code",
   "execution_count": 10,
   "metadata": {},
   "outputs": [],
   "source": [
    "data = []\n",
    "for i, scenario in enumerate(scenarios):\n",
    "    item = {\n",
    "        \"id\": i + 1,\n",
    "        \"scenario\": scenario\n",
    "    }\n",
    "    data.append(item)\n",
    "\n",
    "output_path = 'output.json'\n",
    "\n",
    "if not os.path.exists(output_path):\n",
    "    with open(output_path, '+w', encoding='utf-8') as json_file:\n",
    "        json.dump(data, json_file,indent=4) \n"
   ]
  },
  {
   "cell_type": "code",
   "execution_count": null,
   "metadata": {},
   "outputs": [],
   "source": [
    "def generate_response(model, model_name, inputs, prompt_template):\n",
    "    \"\"\"\n",
    "    Generate a response for selected model and inputs.\n",
    "\n",
    "    ---\n",
    "\n",
    "    model : Llm Model \n",
    "    model_name : name of the model used (used as key for the json output)\n",
    "    inputs : The user inputs from the prompt\n",
    "    prompt_template : The template for the prompt\n",
    "\n",
    "    ---\n",
    "    \"\"\"\n",
    "\n",
    "    if model_name not in ('gemma', 'llama', 'qwq'):\n",
    "        print('Error enter a vild model name: gemma, llama or qwq')\n",
    "\n",
    "    prompt = ChatPromptTemplate.from_template(prompt_template)\n",
    "\n",
    "    for input in inputs:\n",
    "\n",
    "        text = input['scenario']\n",
    "        \n",
    "        chain = prompt | model\n",
    "        response = chain.invoke(text)\n",
    "        input.update({model_name: response})\n",
    "\n",
    "        with open('output.json', 'w', encoding='utf-8') as json_file:\n",
    "            json.dump(inputs, json_file, indent=4)        \n",
    "\n",
    "        print('Answer saved in output.json !')"
   ]
  },
  {
   "cell_type": "code",
   "execution_count": null,
   "metadata": {},
   "outputs": [],
   "source": [
    "#Test\n",
    "with open(output_path, 'r', encoding='utf-8') as json_file:\n",
    "        inputs = json.load(json_file)\n",
    "\n",
    "generate_response(model=ol_gemma,\n",
    "                  model_name='gemma',\n",
    "                  inputs=inputs,\n",
    "                  prompt_template=template)"
   ]
  }
 ],
 "metadata": {
  "kernelspec": {
   "display_name": "venv",
   "language": "python",
   "name": "python3"
  },
  "language_info": {
   "codemirror_mode": {
    "name": "ipython",
    "version": 3
   },
   "file_extension": ".py",
   "mimetype": "text/x-python",
   "name": "python",
   "nbconvert_exporter": "python",
   "pygments_lexer": "ipython3",
   "version": "3.10.4"
  }
 },
 "nbformat": 4,
 "nbformat_minor": 2
}
