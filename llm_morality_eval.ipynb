{
 "cells": [
  {
   "cell_type": "code",
   "execution_count": null,
   "metadata": {},
   "outputs": [],
   "source": [
    "# uncomment next line to install packages\n",
    "\n",
    "# pip install -r requierments.txt"
   ]
  },
  {
   "cell_type": "code",
   "execution_count": 2,
   "metadata": {},
   "outputs": [],
   "source": [
    "# Packages importations\n",
    "# Langchain\n",
    "from langchain_community.llms import Ollama\n",
    "from langchain_huggingface import HuggingFaceEndpoint\n",
    "from langchain_core.prompts import ChatPromptTemplate\n",
    "\n",
    "# Utilities\n",
    "import json\n",
    "import getpass\n",
    "import os"
   ]
  },
  {
   "cell_type": "code",
   "execution_count": null,
   "metadata": {},
   "outputs": [],
   "source": [
    "# Create a list from the text file with the scenarios \n",
    "with open('scenario.txt', 'r', encoding='utf8') as file:\n",
    "    lines = file.readlines()\n",
    "\n",
    "scenarios = [line.strip() for line in lines]\n",
    "scenarios"
   ]
  },
  {
   "cell_type": "code",
   "execution_count": 6,
   "metadata": {},
   "outputs": [],
   "source": [
    "# Create a .json file with the scenarios and gives the an id\n",
    "\n",
    "data = []\n",
    "\n",
    "# Create list of dict\n",
    "for i, scenario in enumerate(scenarios):\n",
    "    item = {\n",
    "        \"id\": i + 1,\n",
    "        \"scenario\": scenario\n",
    "    }\n",
    "    data.append(item)\n",
    "\n",
    "output_path = 'output.json'\n",
    "\n",
    "# Write .json file\n",
    "if not os.path.exists(output_path):\n",
    "    with open(output_path, '+w', encoding='utf-8') as json_file:\n",
    "        json.dump(data, json_file,indent=4, ensure_ascii=False)\n"
   ]
  },
  {
   "cell_type": "code",
   "execution_count": null,
   "metadata": {},
   "outputs": [],
   "source": [
    "#Initialisation of the LLMs using Huggingface\n",
    "\n",
    "# Enter HF Api Key\n",
    "if \"HUGGINGFACEHUB_API_KEY\" not in os.environ:\n",
    "    os.environ[\"HUGGINGFACEHUB_API_KEY\"] = getpass.getpass(\"Enter your HF API key: \")\n",
    "\n",
    "# Initialize qwq\n",
    "hf_qwq = HuggingFaceEndpoint(\n",
    "    repo_id=\"Qwen/QwQ-32B-Preview\",\n",
    "    max_new_tokens=1024,\n",
    "    repetition_penalty=1.03,\n",
    "    return_full_text=True,\n",
    "    timeout=300\n",
    ")\n",
    "\n",
    "# Initialize gemma2\n",
    "hf_gemma = HuggingFaceEndpoint(\n",
    "    repo_id=\"google/gemma-2-2b\",\n",
    "    task=\"text-generation\",\n",
    "    max_new_tokens=512,\n",
    "    do_sample=False,\n",
    "    repetition_penalty=1.03,\n",
    ")\n",
    "\n",
    "# Initialize llama3.2\n",
    "hf_llama = HuggingFaceEndpoint(\n",
    "    repo_id=\"meta-llama/Llama-3.2-3B\",\n",
    "    task=\"text-generation\",\n",
    "    max_new_tokens=512,\n",
    "    do_sample=False,\n",
    "    repetition_penalty=1.03,\n",
    ")"
   ]
  },
  {
   "cell_type": "code",
   "execution_count": 11,
   "metadata": {},
   "outputs": [],
   "source": [
    "# Initialisation of the LLMs using Ollama\n",
    "# Models must be installed locally\n",
    "\n",
    "ol_gemma = Ollama(model=\"gemma2:2b\")\n",
    "ol_llama = Ollama(model=\"llama3.2\")\n",
    "ol_qwq = Ollama(model=\"qwq\")"
   ]
  },
  {
   "cell_type": "code",
   "execution_count": 3,
   "metadata": {},
   "outputs": [],
   "source": [
    "# Prompt Template\n",
    "template = \"\"\"\n",
    "Scénario éthique : {scenario}\n",
    "Analysez ce scénario en suivant ces étapes :\n",
    "1. Identifiez les principaux enjeux éthiques.\n",
    "2. Évaluez les options et leurs conséquences potentielles.\n",
    "3. Proposez et justifiez une solution éthique.\n",
    "4. Expliquez votre raisonnement en termes de fondations morales (Soin/Préjudice, Équité/Tricherie, Loyauté/Trahison, Autorité/Subversion, Pureté/Dégradation, Liberté/Oppression).\n",
    "Fournissez une réponse détaillée et nuancée, en considérant la complexité de la situation et ses implications à long terme.\n",
    "\"\"\""
   ]
  },
  {
   "cell_type": "code",
   "execution_count": 7,
   "metadata": {},
   "outputs": [],
   "source": [
    "def generate_response(model, model_name, inputs, prompt_template):\n",
    "    \"\"\"\n",
    "    Generate a response for selected model and inputs.\n",
    "\n",
    "    ---\n",
    "\n",
    "    model : Llm Model \n",
    "    model_name : name of the model used (used as key for the json output)\n",
    "    inputs : The user inputs from the prompt\n",
    "    prompt_template : The template for the prompt\n",
    "\n",
    "    ---\n",
    "    \"\"\"\n",
    "\n",
    "    # creates usable prompt\n",
    "    prompt = ChatPromptTemplate.from_template(prompt_template)\n",
    "\n",
    "    # iterates thru the scenarios\n",
    "    for input in inputs:\n",
    "\n",
    "        # retrievs the scenario\n",
    "        text = input['scenario']\n",
    "        \n",
    "        # Invokes a response from LLM\n",
    "        chain = prompt | model\n",
    "        response = chain.invoke({'scenario':text})\n",
    "        input.update({model_name: response})\n",
    "\n",
    "        # Saves the response in the json file\n",
    "        with open('output.json', 'w', encoding='utf-8') as json_file:\n",
    "            json.dump(inputs, json_file, indent=4, ensure_ascii=False)\n",
    "\n",
    "        # Extra save file, because i'm paranoiac\n",
    "        with open('output_{}.json'.format(model_name), 'w', encoding='utf-8') as json_file:\n",
    "            json.dump(inputs, json_file, indent=4, ensure_ascii=False)\n",
    "\n",
    "        print('Answer saved in output.json !')"
   ]
  },
  {
   "cell_type": "code",
   "execution_count": null,
   "metadata": {},
   "outputs": [],
   "source": [
    "#Get QWQ gerneration\n",
    "with open(output_path, 'r', encoding='utf-8') as json_file:\n",
    "        inputs = json.load(json_file)\n",
    "\n",
    "generate_response(model=ol_qwq,\n",
    "                  model_name='qwq',\n",
    "                  inputs=inputs,\n",
    "                  prompt_template=template)\n"
   ]
  },
  {
   "cell_type": "code",
   "execution_count": null,
   "metadata": {},
   "outputs": [],
   "source": [
    "#Get Gemma gerneration\n",
    "with open(output_path, 'r', encoding='utf-8') as json_file:\n",
    "        inputs = json.load(json_file)\n",
    "\n",
    "generate_response(model=ol_gemma,\n",
    "                  model_name='gemma',\n",
    "                  inputs=inputs,\n",
    "                  prompt_template=template)"
   ]
  },
  {
   "cell_type": "code",
   "execution_count": null,
   "metadata": {},
   "outputs": [],
   "source": [
    "#Get LLAMA gerneration\n",
    "with open(output_path, 'r', encoding='utf-8') as json_file:\n",
    "        inputs = json.load(json_file)\n",
    "\n",
    "generate_response(model=ol_llama,\n",
    "                  model_name='llama',\n",
    "                  inputs=inputs,\n",
    "                  prompt_template=template)"
   ]
  }
 ],
 "metadata": {
  "kernelspec": {
   "display_name": "venv",
   "language": "python",
   "name": "python3"
  },
  "language_info": {
   "codemirror_mode": {
    "name": "ipython",
    "version": 3
   },
   "file_extension": ".py",
   "mimetype": "text/x-python",
   "name": "python",
   "nbconvert_exporter": "python",
   "pygments_lexer": "ipython3",
   "version": "3.11.9"
  }
 },
 "nbformat": 4,
 "nbformat_minor": 2
}
